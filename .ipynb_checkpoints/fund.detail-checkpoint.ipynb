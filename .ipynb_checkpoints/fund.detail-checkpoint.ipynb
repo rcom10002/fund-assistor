{
 "cells": [
  {
   "cell_type": "markdown",
   "id": "29b727f1-2c8f-4945-a7be-ee1e21f11e1d",
   "metadata": {},
   "source": [
    "# Scratch JSON-formatted Fund Details"
   ]
  },
  {
   "cell_type": "code",
   "execution_count": null,
   "id": "70023cb5-ff0a-4b05-a828-b89de3138958",
   "metadata": {},
   "outputs": [],
   "source": [
    "import requests\n",
    "import json\n",
    "import re\n",
    "import matplotlib.pyplot as plt\n",
    "import pandas as pd"
   ]
  },
  {
   "cell_type": "code",
   "execution_count": null,
   "id": "0979a5a3-7ede-4620-9573-4b0aa63cfecb",
   "metadata": {},
   "outputs": [],
   "source": [
    "urlForFundDetail = \"http://api.fund.eastmoney.com/f10/lsjz?fundCode=161725&pageIndex=1&pageSize=9999&startDate=&endDate=\"\n",
    "headers = {'User-Agent':'Mozilla/5.0 (Windows NT 10.0; Win64; x64) AppleWebKit/537.36 (KHTML, like Gecko) Chrome/90.0.4430.93 Safari/537.36', 'Referer': 'http://fundf10.eastmoney.com/'}\n",
    "httpRequest = requests.get(urlForFundDetail, headers = headers)"
   ]
  },
  {
   "cell_type": "code",
   "execution_count": null,
   "id": "176c43a1-7d84-42ce-9786-f2fa002b1c54",
   "metadata": {},
   "outputs": [],
   "source": [
    "httpRequest?"
   ]
  },
  {
   "cell_type": "code",
   "execution_count": null,
   "id": "6579ca21-c3c5-4b65-95d5-d1d06bd09222",
   "metadata": {},
   "outputs": [],
   "source": [
    "rawJsonString = httpRequest.content.decode('utf-8')\n",
    "rawJsonString?"
   ]
  },
  {
   "cell_type": "markdown",
   "id": "4683e4d3-ee79-4d69-8d06-c11d1e925e6f",
   "metadata": {},
   "source": [
    "# Extract JSON Array of Time Series from JSON String"
   ]
  },
  {
   "cell_type": "code",
   "execution_count": null,
   "id": "6663a434-2624-4eb3-a56d-ad095ccf1e4f",
   "metadata": {},
   "outputs": [],
   "source": [
    "tidyJsonString = re.sub(r'^.*?([{].+[}]).*$', r'\\1', rawJsonString)"
   ]
  },
  {
   "cell_type": "code",
   "execution_count": null,
   "id": "8ca9dc48-24fe-4822-b2d9-39318aba914f",
   "metadata": {},
   "outputs": [],
   "source": [
    "tidyJsonString?"
   ]
  },
  {
   "cell_type": "markdown",
   "id": "5b73d131-cf2e-43c1-9f44-b7ab6a6c7f12",
   "metadata": {},
   "source": [
    "# Parse JSON String into pandas.DataFrame"
   ]
  },
  {
   "cell_type": "code",
   "execution_count": null,
   "id": "e6479621-bede-4784-ab5d-d88f84dfa68e",
   "metadata": {},
   "outputs": [],
   "source": [
    "jsonObject = json.loads(tidyJsonString)\n",
    "jsonObject?"
   ]
  },
  {
   "cell_type": "code",
   "execution_count": null,
   "id": "c48a42e9-2d54-42c6-a719-6a665baeba5c",
   "metadata": {},
   "outputs": [],
   "source": [
    "(jsonObject.keys(), len(jsonObject['Data']['LSJZList']), jsonObject['TotalCount'])"
   ]
  },
  {
   "cell_type": "code",
   "execution_count": null,
   "id": "ab78cf70-cff4-470d-b8a1-2aa9bf13f83a",
   "metadata": {},
   "outputs": [],
   "source": [
    "df = pd.DataFrame(jsonObject['Data']['LSJZList'])\n",
    "set(df.columns.to_list())"
   ]
  },
  {
   "cell_type": "markdown",
   "id": "b218be45-5ace-462e-932e-36481f980911",
   "metadata": {},
   "source": [
    "# Drop Unnecessary Columns & Fix the Index"
   ]
  },
  {
   "cell_type": "code",
   "execution_count": null,
   "id": "ed7d2b1b-9c53-4ded-a7e8-6f905c679d28",
   "metadata": {},
   "outputs": [],
   "source": [
    "columns_to_keep = {'FSRQ', 'DWJZ', 'LJJZ', 'JZZZL'}\n",
    "columns_to_drop = [ key for key in (set(df.columns.to_list()) -  columns_to_keep) ]\n",
    "df = df.drop(columns = columns_to_drop)\n",
    "\n",
    "df.index = df.FSRQ\n",
    "# convert data type from string to numeric\n",
    "for floatColumn in ['DWJZ', 'LJJZ', 'JZZZL']:\n",
    "    df[floatColumn] = pd.to_numeric(df[floatColumn], errors = 'coerce')\n",
    "\n",
    "df"
   ]
  },
  {
   "cell_type": "markdown",
   "id": "300873f1-f740-4388-a7b8-2d89d1b6bf6d",
   "metadata": {},
   "source": [
    "# Fix the Missing Values in Column \"JZZZL\""
   ]
  },
  {
   "cell_type": "code",
   "execution_count": null,
   "id": "b8514208-95ae-452f-999e-b67edf483cc1",
   "metadata": {},
   "outputs": [],
   "source": [
    "def woody_neighbor_rows(row_index, df, rowCount = 1):\n",
    "    df_index = df.index\n",
    "    row_index_loc = df_index.get_loc(row_index)\n",
    "    return df.loc[df_index[(row_index_loc):(row_index_loc + rowCount)]]\n",
    "\n",
    "def woody_next_row(row_index, df):\n",
    "    available_df = woody_neighbor_rows(row_index, df, 2)\n",
    "    return woody_neighbor_rows(row_index, df, 2).iloc[1] if 2 == available_df.index.size else None\n",
    "\n",
    "# Test\n",
    "print(woody_neighbor_rows('2015-06-29', df, 5))\n",
    "print(woody_neighbor_rows('2015-06-29', df, 1))\n",
    "print(woody_neighbor_rows('2015-05-27', df, 5))\n",
    "\n",
    "# Test\n",
    "woody_next_row('2015-05-29', df)\n",
    "\n",
    "def fix_nan_in_jzzzl(row, df):\n",
    "    current_day_data = row\n",
    "    previous_day_data = woody_next_row(row.name, df) if woody_next_row(row.name, df) is not None else row\n",
    "    row['JZZZL'] = (current_day_data['LJJZ'] - previous_day_data['LJJZ']) / previous_day_data['DWJZ'] * 100\n",
    "    # print(row.name, \"row['JZZZL']\", row['JZZZL'], \"\\n\", \"current_day_data['LJJZ']\", current_day_data['LJJZ'], \"\\n\", \"previous_day_data['LJJZ']\", previous_day_data['LJJZ'], \"\\n\\n\")\n",
    "    return row\n",
    "\n",
    "nan_jzzzl_df = df[df['JZZZL'].isna()]\n",
    "nan_jzzzl_df = nan_jzzzl_df.apply(lambda row: fix_nan_in_jzzzl(row, df), axis = 1)\n",
    "df.update(nan_jzzzl_df)\n",
    "df"
   ]
  },
  {
   "cell_type": "markdown",
   "id": "ffee96fc-6ae8-4224-bae1-2aa6dcfd4de4",
   "metadata": {},
   "source": [
    "# Calculate Ideal DWJZ"
   ]
  },
  {
   "cell_type": "code",
   "execution_count": null,
   "id": "14f3d07e-fe0d-4863-9833-6f6caf3df66c",
   "metadata": {},
   "outputs": [],
   "source": [
    "df['IDEAL_DWJZ'] = 1.0\n",
    "ideal_dwjz_series = df['IDEAL_DWJZ']\n",
    "\n",
    "def make_ideal_dwjz(row, df):\n",
    "    row_index = row['FSRQ']\n",
    "    next_row = woody_next_row(row_index, df)\n",
    "    if next_row is not None:\n",
    "        next_row_index = next_row['FSRQ']\n",
    "        change_rate_of_next_trade_day = next_row['JZZZL'] \n",
    "        next_ideal_dwjz = ideal_dwjz_series[row_index] * (100.0 + change_rate_of_next_trade_day) / 100.0\n",
    "        ideal_dwjz_series.at[next_row_index] = next_ideal_dwjz\n",
    "    else:\n",
    "        pass\n",
    "    return row\n",
    "reversed_df = df.sort_index()\n",
    "reversed_df['IDEAL_DWJZ'] = 1.0\n",
    "reversed_df = reversed_df.apply(lambda row: make_ideal_dwjz(row, reversed_df), axis = 1)\n",
    "\n",
    "df.update(ideal_dwjz_series)\n",
    "df"
   ]
  },
  {
   "cell_type": "markdown",
   "id": "44952b37-6747-4ed5-81ca-e70395516e59",
   "metadata": {},
   "source": [
    "# Calculate Periodical Aggregative Metrics"
   ]
  },
  {
   "cell_type": "code",
   "execution_count": null,
   "id": "f816be6e-58e4-4d32-8153-9972c56bff67",
   "metadata": {},
   "outputs": [],
   "source": [
    "df[['LJJZ_2W_MAX', 'LJJZ_2W_MIN', 'LJJZ_4W_MAX', 'LJJZ_4W_MIN', 'LJJZ_6W_MAX', 'LJJZ_6W_MIN', 'IDEAL_DWJZ_4W_MAX', 'IDEAL_DWJZ_4W_MIN']] = 0.0\n",
    "\n",
    "def n_week_max(n_week, row_index, df):\n",
    "    n_week_df = woody_neighbor_rows(row_index, df, n_week * 5)\n",
    "    return n_week_df['LJJZ'].max()\n",
    "\n",
    "def n_week_min(n_week, row_index, df):\n",
    "    n_week_df = woody_neighbor_rows(row_index, df, n_week * 5)\n",
    "    return n_week_df['LJJZ'].min()\n",
    "\n",
    "def make_min_max_of_periodical_ljjz(row, df):\n",
    "    row_index = str(row['FSRQ'])\n",
    "    \n",
    "    n_week_df = woody_neighbor_rows(row_index, df, 2 * 5)\n",
    "    df.at[row['FSRQ'], 'LJJZ_2W_MAX'] = n_week_df['LJJZ'].max()\n",
    "    df.at[row['FSRQ'], 'LJJZ_2W_MIN'] = n_week_df['LJJZ'].min()\n",
    "    df.at[row['FSRQ'], 'LJJZ_2W_INC'] = n_week_df['LJJZ'].max()\n",
    "    df.at[row['FSRQ'], 'LJJZ_2W_DEC'] = n_week_df['LJJZ'].min()\n",
    "    n_week_df = woody_neighbor_rows(row_index, df, 4 * 5)\n",
    "    df.at[row['FSRQ'], 'LJJZ_4W_MAX'] = n_week_df['LJJZ'].max()\n",
    "    df.at[row['FSRQ'], 'LJJZ_4W_MIN'] = n_week_df['LJJZ'].min()\n",
    "    n_week_df = woody_neighbor_rows(row_index, df, 6 * 5)\n",
    "    df.at[row['FSRQ'], 'LJJZ_6W_MAX'] = n_week_df['LJJZ'].max()\n",
    "    df.at[row['FSRQ'], 'LJJZ_6W_MIN'] = n_week_df['LJJZ'].min()\n",
    "    \n",
    "    period_by_week = 4\n",
    "    \n",
    "    n_week_df = woody_neighbor_rows(row_index, df, period_by_week * 5)\n",
    "    ideal_dwjz_4w_max = n_week_df['IDEAL_DWJZ'].max()\n",
    "    ideal_dwjz_4w_min = n_week_df['IDEAL_DWJZ'].min()\n",
    "    df.at[row_index, 'IDEAL_DWJZ_4W_MAX'] = ideal_dwjz_4w_max\n",
    "    df.at[row_index, 'IDEAL_DWJZ_4W_MIN'] = ideal_dwjz_4w_min\n",
    "\n",
    "    row\n",
    "\n",
    "df.apply(lambda row: make_min_max_of_periodical_ljjz(row, df), axis = 1)\n",
    "\n",
    "df"
   ]
  },
  {
   "cell_type": "markdown",
   "id": "34f607fd-2078-498e-81b5-68ce3e84b7d1",
   "metadata": {},
   "source": [
    "# Calculate Inc/Dec Speed in One Month\n",
    "\n",
    "Calculation Strategy\n",
    "* Period is 4 weeks\n",
    "* Find \"max/min\" IDEAL_DWJZ\n",
    "* Take each day's IDEAL_DWJZ and above \"max/min\" to calculate increasement/decreasement rate in the period, which is noted as \"inc/dec\" amount\n",
    "* Find the days' interval between each day and its corresponding \"max/min\" day, which is noted as days\n",
    "* Calculate \"inc/dec\" speed using \"inc/dec\" amount to devide the days' interval"
   ]
  },
  {
   "cell_type": "code",
   "execution_count": null,
   "id": "2d5aa98d-52cb-4d9e-969a-bca4c8b2efd1",
   "metadata": {},
   "outputs": [],
   "source": [
    "df[['INC_AMOUNT_4W', 'DEC_AMOUNT_4W']] = 0.0\n",
    "df[['INC_DAYS_INTERVAL_4W', 'DEC_DAYS_INTERVAL_4W']] = 0\n",
    "df[['INC_4W_SPEED', 'DEC_4W_SPEED']] = 0.0\n",
    "\n",
    "ideal_dwjz_4w_min_and_max = df[['FSRQ', 'IDEAL_DWJZ_4W_MAX', 'IDEAL_DWJZ_4W_MIN']]\n",
    "\n",
    "def woody_get_index_by_value(df, column, value):\n",
    "    return df[df[column] == value].index\n",
    "\n",
    "def make_inc_dec_speed(row, df):\n",
    "    row_index = str(row['FSRQ'])\n",
    "    \n",
    "    ideal_dwjz_4w_max = row['IDEAL_DWJZ_4W_MAX']\n",
    "    ideal_dwjz_4w_min = row['IDEAL_DWJZ_4W_MIN']\n",
    "    ideal_dwjz = row['IDEAL_DWJZ']\n",
    "    \n",
    "    inc_amount = (ideal_dwjz - ideal_dwjz_4w_min) / ideal_dwjz_4w_min * 100\n",
    "    dec_amount = (ideal_dwjz - ideal_dwjz_4w_max) / ideal_dwjz_4w_max * 100\n",
    "    \n",
    "    df.at[row_index, 'INC_AMOUNT_4W'] = inc_amount\n",
    "    df.at[row_index, 'DEC_AMOUNT_4W'] = dec_amount\n",
    "    \n",
    "    row_loc = ideal_dwjz_4w_min_and_max.index.get_loc(row_index)\n",
    "    row_4w_max_loc = df.index.get_loc(woody_get_index_by_value(df, 'IDEAL_DWJZ', ideal_dwjz_4w_max)[0])\n",
    "    row_4w_min_loc = df.index.get_loc(woody_get_index_by_value(df, 'IDEAL_DWJZ', ideal_dwjz_4w_min)[0])\n",
    "    row_inc_days_interval = abs(row_4w_min_loc - row_loc) + 1\n",
    "    row_dec_days_interval = abs(row_4w_max_loc - row_loc) + 1\n",
    "    df.at[row_index, 'INC_DAYS_INTERVAL_4W'] = row_inc_days_interval\n",
    "    df.at[row_index, 'DEC_DAYS_INTERVAL_4W'] = row_dec_days_interval\n",
    "    \n",
    "    df.at[row_index, 'INC_4W_SPEED'] = inc_amount / row_inc_days_interval\n",
    "    df.at[row_index, 'DEC_4W_SPEED'] = dec_amount / row_dec_days_interval\n",
    "    \n",
    "    \n",
    "df.apply(lambda row: make_inc_dec_speed(row, df), axis = 1)\n",
    "\n",
    "df.head(50)\n",
    "\n"
   ]
  },
  {
   "cell_type": "code",
   "execution_count": null,
   "id": "e88695a8-2fbd-4689-80fa-1a872b9a7863",
   "metadata": {},
   "outputs": [],
   "source": [
    "df.info()"
   ]
  },
  {
   "cell_type": "code",
   "execution_count": null,
   "id": "83b09bb9-79bf-4319-be9c-8dee7601b26e",
   "metadata": {},
   "outputs": [],
   "source": []
  }
 ],
 "metadata": {
  "kernelspec": {
   "display_name": "Python 3",
   "language": "python",
   "name": "python3"
  },
  "language_info": {
   "codemirror_mode": {
    "name": "ipython",
    "version": 3
   },
   "file_extension": ".py",
   "mimetype": "text/x-python",
   "name": "python",
   "nbconvert_exporter": "python",
   "pygments_lexer": "ipython3",
   "version": "3.6.9"
  }
 },
 "nbformat": 4,
 "nbformat_minor": 5
}
